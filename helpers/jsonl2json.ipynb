{
 "cells": [
  {
   "cell_type": "code",
   "execution_count": 1,
   "metadata": {},
   "outputs": [],
   "source": [
    "import json\n",
    "\n",
    "def unwrap_and_concat_summaries(jsonl_file_path, json_file_path):\n",
    "    json_list = []\n",
    "\n",
    "    with open(jsonl_file_path, 'r') as jsonl_file:\n",
    "        for line in jsonl_file:\n",
    "            json_object = json.loads(line.strip())\n",
    "            \n",
    "            if isinstance(json_object.get('summary'), list):\n",
    "                json_object['summary'] = ' '.join(json_object['summary'])\n",
    "            \n",
    "            json_list.append(json_object)\n",
    "\n",
    "    \n",
    "    with open(json_file_path, 'w') as json_file:\n",
    "        json.dump(json_list, json_file, indent=4)\n",
    "\n"
   ]
  },
  {
   "cell_type": "code",
   "execution_count": 4,
   "metadata": {},
   "outputs": [],
   "source": [
    "# unwrap_and_concat_summaries('/Users/lynn/Desktop/thesis/booksum_paragraph-level-summary-alignments/validation_dataset.jsonl', '/Users/lynn/Desktop/thesis/booksum_paragraph-level-summary-alignments/valid_article.json')\n",
    "unwrap_and_concat_summaries('/Users/lynn/Desktop/thesis/booksum_paragraph-level-summary-alignments/train_dataset.jsonl', '/Users/lynn/Desktop/thesis/booksum_paragraph-level-summary-alignments/train_article.json')\n",
    "unwrap_and_concat_summaries('/Users/lynn/Desktop/thesis/booksum_paragraph-level-summary-alignments/test_dataset.jsonl', '/Users/lynn/Desktop/thesis/booksum_paragraph-level-summary-alignments/test_article.json')"
   ]
  },
  {
   "cell_type": "code",
   "execution_count": null,
   "metadata": {},
   "outputs": [],
   "source": []
  }
 ],
 "metadata": {
  "kernelspec": {
   "display_name": "graph",
   "language": "python",
   "name": "python3"
  },
  "language_info": {
   "codemirror_mode": {
    "name": "ipython",
    "version": 3
   },
   "file_extension": ".py",
   "mimetype": "text/x-python",
   "name": "python",
   "nbconvert_exporter": "python",
   "pygments_lexer": "ipython3",
   "version": "3.9.0"
  }
 },
 "nbformat": 4,
 "nbformat_minor": 2
}
