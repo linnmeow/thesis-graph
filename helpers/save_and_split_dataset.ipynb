{
 "cells": [
  {
   "cell_type": "code",
   "execution_count": 1,
   "metadata": {},
   "outputs": [],
   "source": [
    "from datasets import load_dataset\n",
    "\n",
    "dataset = load_dataset('cnn_dailymail', '3.0.0')\n",
    "\n",
    "# access the train, validation, and test splits\n",
    "train_dataset = dataset['train']\n",
    "validation_dataset = dataset['validation']\n",
    "test_dataset = dataset['test']"
   ]
  },
  {
   "cell_type": "code",
   "execution_count": 2,
   "metadata": {},
   "outputs": [],
   "source": [
    "dataset = load_dataset('cnn_dailymail', '3.0.0')\n",
    "\n",
    "# access the train, validation, and test splits\n",
    "train_dataset = dataset['train']\n",
    "validation_dataset = dataset['validation']\n",
    "test_dataset = dataset['test']\n"
   ]
  },
  {
   "cell_type": "code",
   "execution_count": 3,
   "metadata": {},
   "outputs": [
    {
     "name": "stdout",
     "output_type": "stream",
     "text": [
      "Number of training samples: 287113\n",
      "Number of validation samples: 13368\n",
      "Number of test samples: 11490\n"
     ]
    }
   ],
   "source": [
    "print(f\"Number of training samples: {len(train_dataset)}\")\n",
    "print(f\"Number of validation samples: {len(validation_dataset)}\")\n",
    "print(f\"Number of test samples: {len(test_dataset)}\")"
   ]
  },
  {
   "cell_type": "code",
   "execution_count": 9,
   "metadata": {},
   "outputs": [],
   "source": [
    "import random\n",
    "import json\n",
    "\n",
    "def save_to_disk(data, filename):\n",
    "    with open(filename, 'w') as f:\n",
    "        json.dump(data, f)\n",
    "\n",
    "# combine all splits into one dataset\n",
    "combined_dataset = []\n",
    "combined_dataset.extend(train_dataset)\n",
    "combined_dataset.extend(validation_dataset)\n",
    "combined_dataset.extend(test_dataset)\n",
    "\n",
    "# randomly shuffle the combined dataset\n",
    "random.shuffle(combined_dataset)\n",
    "\n",
    "# select the first 10000 examples\n",
    "selected_examples = []\n",
    "for example in combined_dataset[:10000]:\n",
    "    selected_example = {\n",
    "        'article': example['article'],\n",
    "        'highlights': example['highlights'],\n",
    "        'id': example['id']\n",
    "    }\n",
    "    selected_examples.append(selected_example)\n",
    "\n",
    "# save the selected examples to disk\n",
    "save_to_disk(selected_examples, 'selected_examples.json')\n"
   ]
  },
  {
   "cell_type": "code",
   "execution_count": 10,
   "metadata": {},
   "outputs": [
    {
     "name": "stdout",
     "output_type": "stream",
     "text": [
      "Number of selected examples: 10000\n"
     ]
    }
   ],
   "source": [
    "print(f\"Number of selected examples: {len(selected_examples)}\")"
   ]
  },
  {
   "cell_type": "code",
   "execution_count": 11,
   "metadata": {},
   "outputs": [],
   "source": [
    "from sklearn.model_selection import train_test_split\n",
    "\n",
    "# load dataset from JSON file\n",
    "with open('selected_examples.json', 'r') as file:\n",
    "    data = json.load(file)\n",
    "\n",
    "total_examples = len(data)\n",
    "train_size = 8000 / total_examples\n",
    "test_size = 1000 / total_examples\n",
    "valid_size = 1000 / total_examples\n",
    "\n",
    "# split the data into training, validation, and test sets\n",
    "train_data, remaining_data = train_test_split(data, test_size=(test_size + valid_size), random_state=42)\n",
    "test_data, valid_data = train_test_split(remaining_data, test_size=(valid_size / (test_size + valid_size)), random_state=42)\n"
   ]
  },
  {
   "cell_type": "code",
   "execution_count": 14,
   "metadata": {},
   "outputs": [
    {
     "data": {
      "text/plain": [
       "1000"
      ]
     },
     "execution_count": 14,
     "metadata": {},
     "output_type": "execute_result"
    }
   ],
   "source": [
    "len(valid_data)\n",
    "\n",
    " "
   ]
  },
  {
   "cell_type": "code",
   "execution_count": 15,
   "metadata": {},
   "outputs": [],
   "source": [
    "# save training data to JSON file\n",
    "with open('train_article.json', 'w') as train_file:\n",
    "    json.dump(train_data, train_file)\n",
    "\n",
    "# save testing data to JSON file\n",
    "with open('test_article.json', 'w') as test_file:\n",
    "    json.dump(test_data, test_file)\n",
    "\n",
    "# save validation data to JSON file\n",
    "with open('valid_article.json', 'w') as valid_file:\n",
    "    json.dump(valid_data, valid_file)"
   ]
  },
  {
   "cell_type": "code",
   "execution_count": 11,
   "metadata": {},
   "outputs": [],
   "source": [
    "# save the articles in a txt file for OpenIE triple extraction \n",
    "with open('train_cnn.txt', 'w') as f:\n",
    "    # iterate through the examples and write each article to the file\n",
    "    for example in train_data:\n",
    "        article = example['article']\n",
    "        f.write(article + '\\n\\n')"
   ]
  },
  {
   "cell_type": "code",
   "execution_count": null,
   "metadata": {},
   "outputs": [],
   "source": []
  }
 ],
 "metadata": {
  "kernelspec": {
   "display_name": "baseline",
   "language": "python",
   "name": "python3"
  },
  "language_info": {
   "codemirror_mode": {
    "name": "ipython",
    "version": 3
   },
   "file_extension": ".py",
   "mimetype": "text/x-python",
   "name": "python",
   "nbconvert_exporter": "python",
   "pygments_lexer": "ipython3",
   "version": "3.9.0"
  }
 },
 "nbformat": 4,
 "nbformat_minor": 2
}
