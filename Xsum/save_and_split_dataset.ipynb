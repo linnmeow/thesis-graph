{
 "cells": [
  {
   "cell_type": "code",
   "execution_count": 1,
   "metadata": {},
   "outputs": [],
   "source": [
    "from datasets import load_dataset\n",
    "\n",
    "ds = load_dataset(\"EdinburghNLP/xsum\")\n",
    "\n",
    "# access the train, validation, and test splits\n",
    "train_dataset = ds['train']\n",
    "validation_dataset = ds['validation']\n",
    "test_dataset = ds['test']"
   ]
  },
  {
   "cell_type": "code",
   "execution_count": 2,
   "metadata": {},
   "outputs": [
    {
     "name": "stdout",
     "output_type": "stream",
     "text": [
      "Number of training samples: 204045\n",
      "Number of validation samples: 11332\n",
      "Number of test samples: 11334\n"
     ]
    }
   ],
   "source": [
    "print(f\"Number of training samples: {len(train_dataset)}\")\n",
    "print(f\"Number of validation samples: {len(validation_dataset)}\")\n",
    "print(f\"Number of test samples: {len(test_dataset)}\")"
   ]
  },
  {
   "cell_type": "code",
   "execution_count": 4,
   "metadata": {},
   "outputs": [],
   "source": [
    "import random\n",
    "import json\n",
    "\n",
    "def save_to_disk(data, filename):\n",
    "    with open(filename, 'w') as f:\n",
    "        json.dump(data, f)\n",
    "\n",
    "# combine all splits into one dataset\n",
    "combined_dataset = []\n",
    "combined_dataset.extend(train_dataset)\n",
    "combined_dataset.extend(validation_dataset)\n",
    "combined_dataset.extend(test_dataset)\n",
    "\n",
    "# randomly shuffle the combined dataset\n",
    "random.shuffle(combined_dataset)\n",
    "\n",
    "# select the first 2000 valid examples\n",
    "selected_examples = []\n",
    "for example in combined_dataset:\n",
    "    document = example.get('document', \"\")\n",
    "    summary = example.get('summary', \"\")\n",
    "\n",
    "    # check if document or summary is empty\n",
    "    if not document.strip() or not summary.strip():\n",
    "        continue\n",
    "\n",
    "    # add valid example to selected_examples\n",
    "    selected_example = {\n",
    "        'document': example['document'],\n",
    "        'summary': example['summary'],\n",
    "        'id': example['id']\n",
    "    }\n",
    "    selected_examples.append(selected_example)\n",
    "\n",
    "    # stop when 10000 valid examples are collected\n",
    "    if len(selected_examples) >= 10000:\n",
    "        break\n",
    "\n",
    "# save the selected examples to disk\n",
    "save_to_disk(selected_examples, 'selected_examples.json')\n"
   ]
  },
  {
   "cell_type": "code",
   "execution_count": 5,
   "metadata": {},
   "outputs": [],
   "source": [
    "from sklearn.model_selection import train_test_split\n",
    "\n",
    "# load dataset from JSON file\n",
    "with open('selected_examples.json', 'r') as file:\n",
    "    data = json.load(file)\n",
    "\n",
    "total_examples = len(data)\n",
    "train_size = 8000 / total_examples\n",
    "test_size = 1000 / total_examples\n",
    "valid_size = 1000 / total_examples\n",
    "\n",
    "# split the data into training, validation, and test sets\n",
    "train_data, remaining_data = train_test_split(data, test_size=(test_size + valid_size), random_state=42)\n",
    "test_data, valid_data = train_test_split(remaining_data, test_size=(valid_size / (test_size + valid_size)), random_state=42)\n"
   ]
  },
  {
   "cell_type": "code",
   "execution_count": 6,
   "metadata": {},
   "outputs": [],
   "source": [
    "# save training data to JSON file\n",
    "with open('train_article.json', 'w') as train_file:\n",
    "    json.dump(train_data, train_file)\n",
    "\n",
    "# save testing data to JSON file\n",
    "with open('test_article.json', 'w') as test_file:\n",
    "    json.dump(test_data, test_file)\n",
    "\n",
    "# save validation data to JSON file\n",
    "with open('valid_article.json', 'w') as valid_file:\n",
    "    json.dump(valid_data, valid_file)"
   ]
  },
  {
   "cell_type": "code",
   "execution_count": 11,
   "metadata": {},
   "outputs": [],
   "source": [
    "# save the articles in a txt file for OpenIE triple extraction \n",
    "with open('train_cnn.txt', 'w') as f:\n",
    "    # iterate through the examples and write each article to the file\n",
    "    for example in train_data:\n",
    "        article = example['article']\n",
    "        f.write(article + '\\n\\n')"
   ]
  },
  {
   "cell_type": "code",
   "execution_count": null,
   "metadata": {},
   "outputs": [],
   "source": []
  }
 ],
 "metadata": {
  "kernelspec": {
   "display_name": "baseline",
   "language": "python",
   "name": "python3"
  },
  "language_info": {
   "codemirror_mode": {
    "name": "ipython",
    "version": 3
   },
   "file_extension": ".py",
   "mimetype": "text/x-python",
   "name": "python",
   "nbconvert_exporter": "python",
   "pygments_lexer": "ipython3",
   "version": "3.9.0"
  }
 },
 "nbformat": 4,
 "nbformat_minor": 2
}
