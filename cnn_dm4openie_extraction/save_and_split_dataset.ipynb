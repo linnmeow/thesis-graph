{
 "cells": [
  {
   "cell_type": "code",
   "execution_count": 4,
   "metadata": {},
   "outputs": [
    {
     "name": "stderr",
     "output_type": "stream",
     "text": [
      "/Users/lynn/Desktop/thesis/graph/lib/python3.9/site-packages/tqdm/auto.py:21: TqdmWarning: IProgress not found. Please update jupyter and ipywidgets. See https://ipywidgets.readthedocs.io/en/stable/user_install.html\n",
      "  from .autonotebook import tqdm as notebook_tqdm\n"
     ]
    }
   ],
   "source": [
    "from datasets import load_dataset\n",
    "\n",
    "dataset = load_dataset('cnn_dailymail', '3.0.0')\n",
    "\n",
    "# access the train, validation, and test splits\n",
    "train_dataset = dataset['train']\n",
    "validation_dataset = dataset['validation']\n",
    "test_dataset = dataset['test']"
   ]
  },
  {
   "cell_type": "code",
   "execution_count": 5,
   "metadata": {},
   "outputs": [],
   "source": [
    "dataset = load_dataset('cnn_dailymail', '3.0.0')\n",
    "\n",
    "# access the train, validation, and test splits\n",
    "train_dataset = dataset['train']\n",
    "validation_dataset = dataset['validation']\n",
    "test_dataset = dataset['test']\n"
   ]
  },
  {
   "cell_type": "code",
   "execution_count": 6,
   "metadata": {},
   "outputs": [],
   "source": [
    "import random\n",
    "import json\n",
    "\n",
    "def save_to_disk(data, filename):\n",
    "    with open(filename, 'w') as f:\n",
    "        json.dump(data, f)\n",
    "\n",
    "# combine all splits into one dataset\n",
    "combined_dataset = []\n",
    "combined_dataset.extend(train_dataset)\n",
    "combined_dataset.extend(validation_dataset)\n",
    "combined_dataset.extend(test_dataset)\n",
    "\n",
    "# randomly shuffle the combined dataset\n",
    "random.shuffle(combined_dataset)\n",
    "\n",
    "# select the first 2000 examples\n",
    "selected_examples = []\n",
    "for example in combined_dataset[:2000]:\n",
    "    selected_example = {\n",
    "        'article': example['article'],\n",
    "        'highlights': example['highlights'],\n",
    "        'id': example['id']\n",
    "    }\n",
    "    selected_examples.append(selected_example)\n",
    "\n",
    "# save the selected examples to disk\n",
    "save_to_disk(selected_examples, 'selected_examples.json')\n"
   ]
  },
  {
   "cell_type": "code",
   "execution_count": 16,
   "metadata": {},
   "outputs": [],
   "source": [
    "# function to load data from a JSON file\n",
    "def load_from_disk(filename):\n",
    "    with open(filename, 'r') as f:\n",
    "        data = json.load(f)\n",
    "    return data\n",
    "\n",
    "# load the selected examples from the JSON file\n",
    "selected_examples = load_from_disk('selected_examples.json')\n",
    "\n",
    "# save the articles in a txt file for OpenIE triple extraction \n",
    "with open('articles.txt', 'w') as f:\n",
    "    # iterate through the examples and write each article to the file\n",
    "    for example in selected_examples:\n",
    "        article = example['article']\n",
    "        f.write(article + '\\n\\n')\n"
   ]
  },
  {
   "cell_type": "code",
   "execution_count": 8,
   "metadata": {},
   "outputs": [],
   "source": [
    "from sklearn.model_selection import train_test_split\n",
    "\n",
    "# load dataset from JSON file\n",
    "with open('selected_examples.json', 'r') as file:\n",
    "    data = json.load(file)\n",
    "\n",
    "total_examples = len(data)\n",
    "train_size = 1600 / total_examples\n",
    "test_size = 200 / total_examples\n",
    "valid_size = 200 / total_examples\n",
    "\n",
    "# Split your dataset into training, testing, and validation sets\n",
    "train_data, remaining_data = train_test_split(data, test_size=(test_size + valid_size), random_state=42)\n",
    "test_data, valid_data = train_test_split(remaining_data, test_size=(valid_size / (test_size + valid_size)), random_state=42)\n"
   ]
  },
  {
   "cell_type": "code",
   "execution_count": 9,
   "metadata": {},
   "outputs": [
    {
     "data": {
      "text/plain": [
       "1600"
      ]
     },
     "execution_count": 9,
     "metadata": {},
     "output_type": "execute_result"
    }
   ],
   "source": [
    "len(train_data)\n",
    " "
   ]
  },
  {
   "cell_type": "code",
   "execution_count": 10,
   "metadata": {},
   "outputs": [],
   "source": [
    "# save training data to JSON file\n",
    "with open('train_data.json', 'w') as train_file:\n",
    "    json.dump(train_data, train_file)\n",
    "\n",
    "# # save testing data to JSON file\n",
    "# with open('test_data.json', 'w') as test_file:\n",
    "#     json.dump(test_data, test_file)\n",
    "\n",
    "# # save validation data to JSON file\n",
    "# with open('valid_data.json', 'w') as valid_file:\n",
    "#     json.dump(valid_data, valid_file)"
   ]
  },
  {
   "cell_type": "code",
   "execution_count": 11,
   "metadata": {},
   "outputs": [],
   "source": [
    "# save the articles in a txt file for OpenIE triple extraction \n",
    "with open('train_cnn.txt', 'w') as f:\n",
    "    # iterate through the examples and write each article to the file\n",
    "    for example in train_data:\n",
    "        article = example['article']\n",
    "        f.write(article + '\\n\\n')"
   ]
  },
  {
   "cell_type": "code",
   "execution_count": null,
   "metadata": {},
   "outputs": [],
   "source": []
  }
 ],
 "metadata": {
  "kernelspec": {
   "display_name": "baseline",
   "language": "python",
   "name": "python3"
  },
  "language_info": {
   "codemirror_mode": {
    "name": "ipython",
    "version": 3
   },
   "file_extension": ".py",
   "mimetype": "text/x-python",
   "name": "python",
   "nbconvert_exporter": "python",
   "pygments_lexer": "ipython3",
   "version": "3.9.0"
  }
 },
 "nbformat": 4,
 "nbformat_minor": 2
}
